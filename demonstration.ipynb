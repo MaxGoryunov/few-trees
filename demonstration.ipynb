{
 "cells": [
  {
   "cell_type": "code",
   "execution_count": 1,
   "metadata": {},
   "outputs": [],
   "source": [
    "import numpy as np\n",
    "import matplotlib.pyplot as plt\n",
    "from sklearn.ensemble import RandomTreesEmbedding\n",
    "from sklearn.model_selection import train_test_split\n",
    "from sklearn.preprocessing import LabelEncoder\n",
    "from sklearn.metrics import accuracy_score, classification_report\n",
    "from sklearn.ensemble import ExtraTreesClassifier\n",
    "from xgboost import XGBClassifier\n",
    "from sklearn.neighbors import KNeighborsClassifier\n",
    "from sklearn.svm import SVC\n",
    "import time\n",
    "from scipy.spatial.distance import cdist\n",
    "import pandas as pd"
   ]
  },
  {
   "cell_type": "markdown",
   "metadata": {},
   "source": [
    "#### Генерация данных"
   ]
  },
  {
   "cell_type": "code",
   "execution_count": 2,
   "metadata": {},
   "outputs": [],
   "source": [
    "def dim_spirals(n, d, std_dev=0):\n",
    "    t = np.linspace(0, 4 * np.pi, n)\n",
    "    \n",
    "    x = []\n",
    "    for i in range(2, d + 1, 2):\n",
    "        if std_dev != 0:\n",
    "            cos_noise = np.random.normal(0, std_dev, n)\n",
    "            sin_noise = np.random.normal(0, std_dev, n)\n",
    "            x.append(t * np.cos(t * i / 2) + cos_noise)\n",
    "            x.append(t * np.sin(t * i / 2) + sin_noise)\n",
    "        else:\n",
    "            x.append(t * np.cos(t * i / 2))\n",
    "            x.append(t * np.sin(t * i / 2))\n",
    "    x = np.array(x).T\n",
    "    # print(f'x shape: {x.shape}')\n",
    "    labels_x = ['A'] * n\n",
    "    \n",
    "    y = []\n",
    "    for i in range(2, d + 1, 2):\n",
    "        if std_dev != 0:\n",
    "            cos_noise = np.random.normal(0, std_dev, n)\n",
    "            sin_noise = np.random.normal(0, std_dev, n)\n",
    "            y.append(t * np.cos(t * i / 2 + np.pi) + cos_noise)\n",
    "            y.append(t * np.sin(t * i / 2 + np.pi) + sin_noise)\n",
    "        else:\n",
    "            y.append(t * np.cos(t * i / 2 + np.pi))\n",
    "            y.append(t * np.sin(t * i / 2 + np.pi))\n",
    "    y = np.array(y).T\n",
    "    labels_y = ['B'] * n\n",
    "    \n",
    "    points = np.vstack((x, y))\n",
    "    labels = labels_x + labels_y\n",
    "    \n",
    "    if d == 2:\n",
    "        plt.figure(figsize=(8, 6))\n",
    "        plt.scatter(points[:n, 0], points[:n, 1], c='red', label='A')\n",
    "        plt.scatter(points[n:, 0], points[n:, 1], c='blue', label='B')\n",
    "        plt.title(\"Spiral Data Visualization (d=2)\")\n",
    "        plt.xlabel(\"X\")\n",
    "        plt.ylabel(\"Y\")\n",
    "        plt.legend()\n",
    "        plt.show()\n",
    "    \n",
    "    return points, labels"
   ]
  },
  {
   "cell_type": "markdown",
   "metadata": {},
   "source": [
    "#### Обучение деревьев"
   ]
  },
  {
   "cell_type": "code",
   "execution_count": 3,
   "metadata": {},
   "outputs": [],
   "source": [
    "def fitted_extrees(train_points: np.ndarray, train_labels: np.ndarray, n_estimators: int, random_state: int = 42, max_depth: int | None = None):\n",
    "    extrees = ExtraTreesClassifier(n_estimators=n_estimators, max_depth=max_depth, random_state=random_state, n_jobs=-1)\n",
    "    extrees.fit(train_points, train_labels)\n",
    "    return extrees"
   ]
  },
  {
   "cell_type": "markdown",
   "metadata": {},
   "source": [
    "#### Перевод в бинарный путь и функция расстояния"
   ]
  },
  {
   "cell_type": "code",
   "execution_count": 4,
   "metadata": {},
   "outputs": [],
   "source": [
    "def trace_binary_path_opt(tree, sample_leaf_index):\n",
    "    children_left = tree.children_left\n",
    "    children_right = tree.children_right\n",
    "    search = sample_leaf_index\n",
    "    binary_path = []\n",
    "    while True:\n",
    "        i = np.where(children_left == search)[0]\n",
    "        if i.size:\n",
    "            binary_path.append(0) \n",
    "        else:\n",
    "            i = np.where(children_right == search)[0]\n",
    "            binary_path.append(1) \n",
    "        i = i[0]\n",
    "        if i == 0:\n",
    "            break\n",
    "        search = i\n",
    "    return np.array(binary_path[::-1], dtype=int)\n",
    "\n",
    "def padded_dist(x: np.ndarray, y: np.ndarray):\n",
    "    diff_idx = np.where(x != y)[0]\n",
    "    if diff_idx.size > 0:\n",
    "        return len(x) - diff_idx[0]\n",
    "    return 0"
   ]
  },
  {
   "cell_type": "markdown",
   "metadata": {},
   "source": [
    "#### Попарные расстояния"
   ]
  },
  {
   "cell_type": "code",
   "execution_count": 5,
   "metadata": {},
   "outputs": [],
   "source": [
    "def extrees_train_and_cdist_pairwise_dists(extrees: ExtraTreesClassifier, points: np.ndarray, train_idx: np.ndarray):\n",
    "    n_points = points.shape[0]\n",
    "    n_trees = len(extrees.estimators_)\n",
    "    n_train_idx = len(train_idx)\n",
    "    leaf_indices = np.array([tree.apply(points) for tree in extrees.estimators_])  # Shape: (n_trees, n_points)\n",
    "\n",
    "    def pad_binary_paths(tree_paths):\n",
    "        max_length = max(len(path) for path in tree_paths)\n",
    "        return np.array([np.pad(path, (0, max_length - len(path)), 'constant') for path in tree_paths])\n",
    "    padded_binary_paths = [\n",
    "        pad_binary_paths([trace_binary_path_opt(tree.tree_, leaf_indices[k, pind]) for pind in range(n_points)])\n",
    "        for k, tree in enumerate(extrees.estimators_)\n",
    "    ]\n",
    "    pairwise_distances = np.zeros((n_points, n_train_idx))\n",
    "    for t in range(n_trees):\n",
    "        tree_paths = padded_binary_paths[t]\n",
    "        dist_matrix = cdist(tree_paths, tree_paths[train_idx], metric=padded_dist)\n",
    "        pairwise_distances += dist_matrix\n",
    "    pairwise_distances /= n_trees\n",
    "    return pairwise_distances"
   ]
  },
  {
   "cell_type": "markdown",
   "metadata": {},
   "source": [
    "#### Функции для смешанного расстояния и ядерной регрессии"
   ]
  },
  {
   "cell_type": "code",
   "execution_count": 6,
   "metadata": {},
   "outputs": [],
   "source": [
    "def gaussian_dist_flat(points_target, points_other):\n",
    "    diff = points_target[:, None, :] - points_other[None, :, :]\n",
    "    # Shape: (n_target_points, n_other_points, n_features)\n",
    "    return np.sum(diff ** 2, axis=-1)\n",
    "    # Shape: (n_target_points, n_other_points)\n",
    "\n",
    "def mixed_kernel_dist_predictions(target_indices, points, labels, train_idx, pairwise_distances, bandwidth=0.5, alpha=0.5):\n",
    "    beta = 1 - alpha\n",
    "    points_target = points[target_indices]\n",
    "    points_train = points[train_idx]\n",
    "    pairwise_dists_subset = pairwise_distances[target_indices]\n",
    "    flat_dists = gaussian_dist_flat(points_target, points_train)\n",
    "    combined_dists = alpha * flat_dists + beta * pairwise_dists_subset\n",
    "    \n",
    "    weights = np.exp(-(combined_dists / (2 * bandwidth ** 2)))\n",
    "    weights /= np.sum(weights, axis=1, keepdims=True)\n",
    "    train_labels = labels[train_idx]\n",
    "    predictions = np.dot(weights, train_labels)\n",
    "    return predictions\n",
    "\n",
    "def predictions_from_flat_and_pairdist_mix(target_indices, train_idx, labels, flat_dists, pair_dists, bandwidth, alpha):\n",
    "    beta = 1 - alpha\n",
    "    pairwise_dists_subset = pair_dists[target_indices]\n",
    "    combined_dists = alpha * flat_dists + beta * pairwise_dists_subset\n",
    "    weights = np.exp(-(combined_dists / (2 * bandwidth ** 2)))\n",
    "    weights /= np.sum(weights, axis=1, keepdims=True)\n",
    "    train_labels = labels[train_idx]\n",
    "    predictions = np.dot(weights, train_labels)\n",
    "    return predictions"
   ]
  },
  {
   "cell_type": "markdown",
   "metadata": {},
   "source": [
    "### Сравнения методов: метрики, смешанного расстояния, ExtraTrees и KNN"
   ]
  },
  {
   "cell_type": "code",
   "execution_count": 7,
   "metadata": {},
   "outputs": [],
   "source": [
    "def compare_metric_mix_plain_et_knn(n_estimators=10, num_neighbors=1, test_size=0.8, times = 10, N = 500, DIM = 8, bandwidth=1):\n",
    "    seeds = []\n",
    "    metric_res = []\n",
    "    mix_res = []\n",
    "    et_res = []\n",
    "    knn_res = []\n",
    "    for iter_i in range(times):\n",
    "        # print(f'iter = {iter_i}')\n",
    "        seed = time.time_ns() % (2 ** 32)\n",
    "        seeds.append(seed)\n",
    "        np.random.seed(seed)\n",
    "        random_state = seed\n",
    "        points, labels = dim_spirals(N, DIM, std_dev=0.5)\n",
    "        labels = np.array(labels)\n",
    "        train_idx, test_idx = train_test_split(np.arange(len(points)), test_size=test_size, random_state=42)\n",
    "        extrees = fitted_extrees(points[train_idx], labels[train_idx], n_estimators, random_state)\n",
    "        pair_dists = extrees_train_and_cdist_pairwise_dists(extrees, points, train_idx)\n",
    "        train_distances = pair_dists[train_idx]\n",
    "        test_distances = pair_dists[test_idx]\n",
    "        train_labels = labels[train_idx]\n",
    "        test_labels = labels[test_idx]\n",
    "        \n",
    "        knn = KNeighborsClassifier(n_neighbors=num_neighbors, metric='precomputed')\n",
    "        knn.fit(train_distances, train_labels)\n",
    "        predicted_labels = knn.predict(test_distances)\n",
    "        accuracy = accuracy_score(test_labels, predicted_labels)\n",
    "        metric_res.append(accuracy)\n",
    "        \n",
    "        int_labels = np.array([0 if label == 'A' else 1 for label in labels])\n",
    "        int_test_labels = int_labels[test_idx]\n",
    "        mix_pred = mixed_kernel_dist_predictions(test_idx, points, int_labels, train_idx, pair_dists, bandwidth)\n",
    "        pred_labels = (mix_pred >= 0.5).astype(int)\n",
    "        accuracy = accuracy_score(int_test_labels, pred_labels)\n",
    "        mix_res.append(accuracy)\n",
    "        \n",
    "        et_predicted = extrees.predict(points[test_idx])\n",
    "        accuracy = accuracy_score(test_labels, et_predicted)\n",
    "        et_res.append(accuracy)\n",
    "\n",
    "        knn = KNeighborsClassifier(n_neighbors=num_neighbors)\n",
    "        knn.fit(points[train_idx], train_labels)\n",
    "        knn_pred = knn.predict(points[test_idx])\n",
    "        accuracy = accuracy_score(test_labels, knn_pred)\n",
    "        knn_res.append(accuracy)\n",
    "    return np.array(seeds), np.array(metric_res), np.array(mix_res), np.array(et_res), np.array(knn_res)"
   ]
  },
  {
   "cell_type": "code",
   "execution_count": 8,
   "metadata": {},
   "outputs": [
    {
     "name": "stdout",
     "output_type": "stream",
     "text": [
      "Metric avg: 0.9405625000000001\n",
      "Kernel mix avg: 0.9778125\n",
      "ExtraTrees avg: 0.9124999999999999\n",
      "KNN avg: 0.9742500000000002\n"
     ]
    }
   ],
   "source": [
    "n_estimators = 10\n",
    "test_size = 0.8\n",
    "times = 20\n",
    "seeds, metric_res, mix_res, et_res, knn_res = compare_metric_mix_plain_et_knn(n_estimators=n_estimators, test_size=test_size, times=times)\n",
    "print(f'Metric avg: {np.average(metric_res)}')\n",
    "print(f'Kernel mix avg: {np.average(mix_res)}')\n",
    "print(f'ExtraTrees avg: {np.average(et_res)}')\n",
    "print(f'KNN avg: {np.average(knn_res)}')"
   ]
  },
  {
   "cell_type": "code",
   "execution_count": 9,
   "metadata": {},
   "outputs": [
    {
     "name": "stdout",
     "output_type": "stream",
     "text": [
      "         Seed  Metric  KernelMix  ExtraTrees      KNN\n",
      "0   756959868  0.9500    0.97625     0.92500  0.97500\n",
      "1    23492680  0.9575    0.97250     0.91750  0.97375\n",
      "2  2089132788  0.9300    0.97375     0.90750  0.97500\n",
      "3   923432096  0.9350    0.97625     0.90125  0.97250\n",
      "4  3800808800  0.9525    0.97750     0.90750  0.97125\n"
     ]
    }
   ],
   "source": [
    "accuracies = pd.DataFrame(\n",
    "    {\n",
    "        'Seed': seeds,\n",
    "        'Metric': metric_res,\n",
    "        'KernelMix': mix_res,\n",
    "        'ExtraTrees': et_res,\n",
    "        'KNN': knn_res\n",
    "    }\n",
    ")\n",
    "print(accuracies.head())\n",
    "accuracies.to_csv(f'accuracies_nest{n_estimators}_ts{test_size}_t{times}_{time.time_ns()}.csv')"
   ]
  },
  {
   "cell_type": "markdown",
   "metadata": {},
   "source": [
    "### Усреднения точности в смешанном расстоянии для разных значений alpha (Параметр смешивания ЯР и метрики)"
   ]
  },
  {
   "cell_type": "code",
   "execution_count": 10,
   "metadata": {},
   "outputs": [],
   "source": [
    "def test_mix_alpha_values(n_estimators=10, bandwidth=0.5, test_size=0.8, times=10, N=500, DIM=8):\n",
    "    alphas = np.arange(0, 1.1, 0.1)\n",
    "    results = {alpha: np.zeros(times) for alpha in alphas}\n",
    "    seeds = []\n",
    "    for it_i in range(times):\n",
    "        # print(f'iter = {it_i}')\n",
    "        seed = time.time_ns() % (2 ** 32)\n",
    "        seeds.append(seed)\n",
    "        np.random.seed(seed)\n",
    "        random_state = seed\n",
    "        points, labels = dim_spirals(N, DIM, std_dev=1)\n",
    "        labels = np.array(labels)\n",
    "        int_labels = np.array([0 if label == 'A' else 1 for label in labels])\n",
    "        train_idx, test_idx = train_test_split(np.arange(len(points)), test_size=test_size, random_state=random_state)\n",
    "        extrees = fitted_extrees(points[train_idx], labels[train_idx], n_estimators, random_state)\n",
    "        pair_dists = extrees_train_and_cdist_pairwise_dists(extrees, points, train_idx)\n",
    "        train_labels = labels[train_idx]\n",
    "        test_labels = int_labels[test_idx]\n",
    "        flat_dists = gaussian_dist_flat(points[test_idx], points[train_idx])\n",
    "        for alpha_ in results:\n",
    "            mix_pred = predictions_from_flat_and_pairdist_mix(test_idx, train_idx, int_labels, flat_dists, pair_dists, bandwidth, alpha_)\n",
    "            pred_labels = (mix_pred >= 0.5).astype(int)\n",
    "            results[alpha_][it_i] = accuracy_score(test_labels, pred_labels)\n",
    "    return seeds, results"
   ]
  },
  {
   "cell_type": "code",
   "execution_count": 16,
   "metadata": {},
   "outputs": [],
   "source": [
    "times = 30\n",
    "test_size = 0.8\n",
    "n_estimators = 20\n",
    "seeds, results = test_mix_alpha_values(n_estimators=n_estimators, test_size=test_size, times=times)"
   ]
  },
  {
   "cell_type": "code",
   "execution_count": 17,
   "metadata": {},
   "outputs": [
    {
     "name": "stdout",
     "output_type": "stream",
     "text": [
      "      0.0      0.1      0.2      0.3      0.4      0.5      0.6      0.7  \\\n",
      "0  0.9200  0.93250  0.93875  0.94125  0.94000  0.93875  0.94125  0.94375   \n",
      "1  0.9275  0.94125  0.94750  0.94875  0.94875  0.94625  0.94250  0.94000   \n",
      "2  0.9300  0.94125  0.94625  0.95125  0.95250  0.94875  0.94625  0.94500   \n",
      "3  0.9100  0.91625  0.92000  0.91750  0.91500  0.91250  0.91250  0.91375   \n",
      "4  0.8975  0.91000  0.91125  0.91625  0.91375  0.91375  0.91625  0.91750   \n",
      "\n",
      "       0.8      0.9      1.0        Seed  \n",
      "0  0.94125  0.94000  0.94000  3738753748  \n",
      "1  0.93875  0.93750  0.93750  2063898964  \n",
      "2  0.94250  0.94125  0.94125  2867385776  \n",
      "3  0.91125  0.91125  0.91375  1228182888  \n",
      "4  0.91875  0.91875  0.91875  3831876196  \n"
     ]
    }
   ],
   "source": [
    "alphas = pd.DataFrame(results)\n",
    "alphas['Seed'] = seeds\n",
    "print(alphas.head())\n",
    "alphas.to_csv(f'alphas_t{times}_ts{test_size}_est{n_estimators}_{time.time_ns()}.csv')"
   ]
  },
  {
   "cell_type": "code",
   "execution_count": 18,
   "metadata": {},
   "outputs": [
    {
     "data": {
      "text/plain": [
       "[<matplotlib.lines.Line2D at 0x1a5347206d0>]"
      ]
     },
     "execution_count": 18,
     "metadata": {},
     "output_type": "execute_result"
    },
    {
     "data": {
      "image/png": "[encoded data removed]",
      "text/plain": [
       "<Figure size 640x480 with 1 Axes>"
      ]
     },
     "metadata": {},
     "output_type": "display_data"
    }
   ],
   "source": [
    "means = alphas.mean().drop('Seed')\n",
    "# print(means)\n",
    "plt.plot(means)"
   ]
  },
  {
   "cell_type": "code",
   "execution_count": 19,
   "metadata": {},
   "outputs": [
    {
     "name": "stdout",
     "output_type": "stream",
     "text": [
      "0.30000000000000004\n"
     ]
    }
   ],
   "source": [
    "print(means.idxmax())"
   ]
  },
  {
   "cell_type": "code",
   "execution_count": 20,
   "metadata": {},
   "outputs": [
    {
     "name": "stdout",
     "output_type": "stream",
     "text": [
      "0.0    0.915875\n",
      "0.1    0.930583\n",
      "0.2    0.932417\n",
      "0.3    0.933250\n",
      "0.4    0.932500\n",
      "0.5    0.931458\n",
      "0.6    0.931417\n",
      "0.7    0.931417\n",
      "0.8    0.930792\n",
      "0.9    0.930458\n",
      "1.0    0.930542\n",
      "dtype: float64\n"
     ]
    }
   ],
   "source": [
    "print(means)"
   ]
  }
 ],
 "metadata": {
  "kernelspec": {
   "display_name": "Python 3",
   "language": "python",
   "name": "python3"
  },
  "language_info": {
   "codemirror_mode": {
    "name": "ipython",
    "version": 3
   },
   "file_extension": ".py",
   "mimetype": "text/x-python",
   "name": "python",
   "nbconvert_exporter": "python",
   "pygments_lexer": "ipython3",
   "version": "3.10.5"
  }
 },
 "nbformat": 4,
 "nbformat_minor": 2
}
